{
 "cells": [
  {
   "cell_type": "markdown",
   "id": "9f8066e6-ae2a-4a88-89e7-233ae48aeaeb",
   "metadata": {},
   "source": [
    "#Q1"
   ]
  },
  {
   "cell_type": "markdown",
   "id": "62f46e88-a6f8-403e-bcfd-84742a947ac7",
   "metadata": {},
   "source": [
    "read_csv(): This function is used to read data from a CSV file into a DataFrame."
   ]
  },
  {
   "cell_type": "code",
   "execution_count": 2,
   "id": "520bd520-b005-40dd-ae3a-3993f57ea9e1",
   "metadata": {},
   "outputs": [],
   "source": [
    "import pandas as pd\n",
    "#df = pd.read_csv('data.csv')"
   ]
  },
  {
   "cell_type": "code",
   "execution_count": 3,
   "id": "e10bbf83-5e5b-44c9-96dc-2d8676b230e5",
   "metadata": {},
   "outputs": [],
   "source": [
    "#Creating Dataframe\n",
    "S1 = pd.Series(['Sourabh' , 'Shikhar' , 'Suyash' , 'vineet' , 'tanish'])\n",
    "S2 = pd.Series([7.7 , 7.7 , 7.17 , 8.7 , 8.5]) \n",
    "df = pd.DataFrame({'Name': S1 , 'SGPA': S2})"
   ]
  },
  {
   "cell_type": "code",
   "execution_count": 4,
   "id": "027a1123-92c9-4a5f-8789-2bb3977e2fd3",
   "metadata": {},
   "outputs": [
    {
     "data": {
      "text/html": [
       "<div>\n",
       "<style scoped>\n",
       "    .dataframe tbody tr th:only-of-type {\n",
       "        vertical-align: middle;\n",
       "    }\n",
       "\n",
       "    .dataframe tbody tr th {\n",
       "        vertical-align: top;\n",
       "    }\n",
       "\n",
       "    .dataframe thead th {\n",
       "        text-align: right;\n",
       "    }\n",
       "</style>\n",
       "<table border=\"1\" class=\"dataframe\">\n",
       "  <thead>\n",
       "    <tr style=\"text-align: right;\">\n",
       "      <th></th>\n",
       "      <th>Name</th>\n",
       "      <th>SGPA</th>\n",
       "    </tr>\n",
       "  </thead>\n",
       "  <tbody>\n",
       "    <tr>\n",
       "      <th>0</th>\n",
       "      <td>Sourabh</td>\n",
       "      <td>7.70</td>\n",
       "    </tr>\n",
       "    <tr>\n",
       "      <th>1</th>\n",
       "      <td>Shikhar</td>\n",
       "      <td>7.70</td>\n",
       "    </tr>\n",
       "    <tr>\n",
       "      <th>2</th>\n",
       "      <td>Suyash</td>\n",
       "      <td>7.17</td>\n",
       "    </tr>\n",
       "    <tr>\n",
       "      <th>3</th>\n",
       "      <td>vineet</td>\n",
       "      <td>8.70</td>\n",
       "    </tr>\n",
       "    <tr>\n",
       "      <th>4</th>\n",
       "      <td>tanish</td>\n",
       "      <td>8.50</td>\n",
       "    </tr>\n",
       "  </tbody>\n",
       "</table>\n",
       "</div>"
      ],
      "text/plain": [
       "      Name  SGPA\n",
       "0  Sourabh  7.70\n",
       "1  Shikhar  7.70\n",
       "2   Suyash  7.17\n",
       "3   vineet  8.70\n",
       "4   tanish  8.50"
      ]
     },
     "execution_count": 4,
     "metadata": {},
     "output_type": "execute_result"
    }
   ],
   "source": [
    "df"
   ]
  },
  {
   "cell_type": "raw",
   "id": "2a26ad1b-b197-45d3-8c47-f0cda5ac1d5d",
   "metadata": {},
   "source": [
    "head(): This function is used to display the first few rows of a DataFrame."
   ]
  },
  {
   "cell_type": "code",
   "execution_count": 5,
   "id": "26bf282b-9b26-4807-92be-613cd9588518",
   "metadata": {},
   "outputs": [
    {
     "data": {
      "text/html": [
       "<div>\n",
       "<style scoped>\n",
       "    .dataframe tbody tr th:only-of-type {\n",
       "        vertical-align: middle;\n",
       "    }\n",
       "\n",
       "    .dataframe tbody tr th {\n",
       "        vertical-align: top;\n",
       "    }\n",
       "\n",
       "    .dataframe thead th {\n",
       "        text-align: right;\n",
       "    }\n",
       "</style>\n",
       "<table border=\"1\" class=\"dataframe\">\n",
       "  <thead>\n",
       "    <tr style=\"text-align: right;\">\n",
       "      <th></th>\n",
       "      <th>Name</th>\n",
       "      <th>SGPA</th>\n",
       "    </tr>\n",
       "  </thead>\n",
       "  <tbody>\n",
       "    <tr>\n",
       "      <th>0</th>\n",
       "      <td>Sourabh</td>\n",
       "      <td>7.70</td>\n",
       "    </tr>\n",
       "    <tr>\n",
       "      <th>1</th>\n",
       "      <td>Shikhar</td>\n",
       "      <td>7.70</td>\n",
       "    </tr>\n",
       "    <tr>\n",
       "      <th>2</th>\n",
       "      <td>Suyash</td>\n",
       "      <td>7.17</td>\n",
       "    </tr>\n",
       "    <tr>\n",
       "      <th>3</th>\n",
       "      <td>vineet</td>\n",
       "      <td>8.70</td>\n",
       "    </tr>\n",
       "    <tr>\n",
       "      <th>4</th>\n",
       "      <td>tanish</td>\n",
       "      <td>8.50</td>\n",
       "    </tr>\n",
       "  </tbody>\n",
       "</table>\n",
       "</div>"
      ],
      "text/plain": [
       "      Name  SGPA\n",
       "0  Sourabh  7.70\n",
       "1  Shikhar  7.70\n",
       "2   Suyash  7.17\n",
       "3   vineet  8.70\n",
       "4   tanish  8.50"
      ]
     },
     "execution_count": 5,
     "metadata": {},
     "output_type": "execute_result"
    }
   ],
   "source": [
    "df.head()"
   ]
  },
  {
   "cell_type": "code",
   "execution_count": 6,
   "id": "823ca5f8-778b-4150-b69f-df5abb1b158c",
   "metadata": {},
   "outputs": [
    {
     "data": {
      "text/html": [
       "<div>\n",
       "<style scoped>\n",
       "    .dataframe tbody tr th:only-of-type {\n",
       "        vertical-align: middle;\n",
       "    }\n",
       "\n",
       "    .dataframe tbody tr th {\n",
       "        vertical-align: top;\n",
       "    }\n",
       "\n",
       "    .dataframe thead th {\n",
       "        text-align: right;\n",
       "    }\n",
       "</style>\n",
       "<table border=\"1\" class=\"dataframe\">\n",
       "  <thead>\n",
       "    <tr style=\"text-align: right;\">\n",
       "      <th></th>\n",
       "      <th>Name</th>\n",
       "      <th>SGPA</th>\n",
       "    </tr>\n",
       "  </thead>\n",
       "  <tbody>\n",
       "    <tr>\n",
       "      <th>0</th>\n",
       "      <td>Sourabh</td>\n",
       "      <td>7.7</td>\n",
       "    </tr>\n",
       "    <tr>\n",
       "      <th>1</th>\n",
       "      <td>Shikhar</td>\n",
       "      <td>7.7</td>\n",
       "    </tr>\n",
       "  </tbody>\n",
       "</table>\n",
       "</div>"
      ],
      "text/plain": [
       "      Name  SGPA\n",
       "0  Sourabh   7.7\n",
       "1  Shikhar   7.7"
      ]
     },
     "execution_count": 6,
     "metadata": {},
     "output_type": "execute_result"
    }
   ],
   "source": [
    "df.head(2)"
   ]
  },
  {
   "cell_type": "markdown",
   "id": "7c0bfadf-5b75-4757-a52d-b9c2aaa07bb9",
   "metadata": {},
   "source": [
    "info(): This function provides a concise summary of a DataFrame including the column names, non-null values, and data types."
   ]
  },
  {
   "cell_type": "code",
   "execution_count": 7,
   "id": "c4f00e57-86ea-44dc-8f42-20cce16c985c",
   "metadata": {},
   "outputs": [
    {
     "name": "stdout",
     "output_type": "stream",
     "text": [
      "<class 'pandas.core.frame.DataFrame'>\n",
      "RangeIndex: 5 entries, 0 to 4\n",
      "Data columns (total 2 columns):\n",
      " #   Column  Non-Null Count  Dtype  \n",
      "---  ------  --------------  -----  \n",
      " 0   Name    5 non-null      object \n",
      " 1   SGPA    5 non-null      float64\n",
      "dtypes: float64(1), object(1)\n",
      "memory usage: 208.0+ bytes\n"
     ]
    }
   ],
   "source": [
    "df.info()"
   ]
  },
  {
   "cell_type": "markdown",
   "id": "081f6111-e77a-4136-9bc9-039748df19f6",
   "metadata": {},
   "source": [
    "describe(): This function generates descriptive statistics of numerical columns in a DataFrame."
   ]
  },
  {
   "cell_type": "code",
   "execution_count": 8,
   "id": "01d35304-8063-4da6-a35c-aaac492adbce",
   "metadata": {},
   "outputs": [
    {
     "data": {
      "text/html": [
       "<div>\n",
       "<style scoped>\n",
       "    .dataframe tbody tr th:only-of-type {\n",
       "        vertical-align: middle;\n",
       "    }\n",
       "\n",
       "    .dataframe tbody tr th {\n",
       "        vertical-align: top;\n",
       "    }\n",
       "\n",
       "    .dataframe thead th {\n",
       "        text-align: right;\n",
       "    }\n",
       "</style>\n",
       "<table border=\"1\" class=\"dataframe\">\n",
       "  <thead>\n",
       "    <tr style=\"text-align: right;\">\n",
       "      <th></th>\n",
       "      <th>SGPA</th>\n",
       "    </tr>\n",
       "  </thead>\n",
       "  <tbody>\n",
       "    <tr>\n",
       "      <th>count</th>\n",
       "      <td>5.000000</td>\n",
       "    </tr>\n",
       "    <tr>\n",
       "      <th>mean</th>\n",
       "      <td>7.954000</td>\n",
       "    </tr>\n",
       "    <tr>\n",
       "      <th>std</th>\n",
       "      <td>0.632123</td>\n",
       "    </tr>\n",
       "    <tr>\n",
       "      <th>min</th>\n",
       "      <td>7.170000</td>\n",
       "    </tr>\n",
       "    <tr>\n",
       "      <th>25%</th>\n",
       "      <td>7.700000</td>\n",
       "    </tr>\n",
       "    <tr>\n",
       "      <th>50%</th>\n",
       "      <td>7.700000</td>\n",
       "    </tr>\n",
       "    <tr>\n",
       "      <th>75%</th>\n",
       "      <td>8.500000</td>\n",
       "    </tr>\n",
       "    <tr>\n",
       "      <th>max</th>\n",
       "      <td>8.700000</td>\n",
       "    </tr>\n",
       "  </tbody>\n",
       "</table>\n",
       "</div>"
      ],
      "text/plain": [
       "           SGPA\n",
       "count  5.000000\n",
       "mean   7.954000\n",
       "std    0.632123\n",
       "min    7.170000\n",
       "25%    7.700000\n",
       "50%    7.700000\n",
       "75%    8.500000\n",
       "max    8.700000"
      ]
     },
     "execution_count": 8,
     "metadata": {},
     "output_type": "execute_result"
    }
   ],
   "source": [
    "df.describe()"
   ]
  },
  {
   "cell_type": "markdown",
   "id": "eed16ec8-5d53-497c-8177-861ae16c7dfe",
   "metadata": {},
   "source": [
    "groupby(): This function is used to split the data into groups based on some criteria."
   ]
  },
  {
   "cell_type": "code",
   "execution_count": 9,
   "id": "a9e9de39-b615-4c8b-8bca-15c222fe35bd",
   "metadata": {},
   "outputs": [],
   "source": [
    " grouped=df.groupby('SGPA')"
   ]
  },
  {
   "cell_type": "code",
   "execution_count": 10,
   "id": "21c57a70-323f-48e2-812d-3b09dbeaa140",
   "metadata": {},
   "outputs": [
    {
     "name": "stdout",
     "output_type": "stream",
     "text": [
      "7.17\n",
      "     Name  SGPA\n",
      "2  Suyash  7.17\n",
      "\n",
      "7.7\n",
      "      Name  SGPA\n",
      "0  Sourabh   7.7\n",
      "1  Shikhar   7.7\n",
      "\n",
      "8.5\n",
      "     Name  SGPA\n",
      "4  tanish   8.5\n",
      "\n",
      "8.7\n",
      "     Name  SGPA\n",
      "3  vineet   8.7\n",
      "\n"
     ]
    }
   ],
   "source": [
    "for SGPA , group in grouped:\n",
    "    print(SGPA)\n",
    "    print(group)\n",
    "    print()"
   ]
  },
  {
   "cell_type": "markdown",
   "id": "0d57af0f-f254-4d09-8797-a6ad2f250b86",
   "metadata": {},
   "source": [
    "#Q2"
   ]
  },
  {
   "cell_type": "code",
   "execution_count": 11,
   "id": "5692f4da-589b-4daf-b427-7014218f17ab",
   "metadata": {},
   "outputs": [],
   "source": [
    "def reindex_dataFrame(df):\n",
    "    new_index = pd.Series(range(1, len(df)*2 ,2))\n",
    "    return df.reset_index(drop=True).set_index(new_index)\n",
    "\n",
    "# Example DataFrame\n",
    "df = pd.DataFrame({'A': [1, 2, 3, 4],\n",
    "                   'B': [5, 6, 7, 8],\n",
    "                   'C': [9, 10, 11, 12]})\n",
    "\n",
    "# Reindexing the DataFrame\n",
    "new_df = reindex_dataFrame(df)"
   ]
  },
  {
   "cell_type": "code",
   "execution_count": 12,
   "id": "baab6de1-bcbf-4979-a968-e3afab138a2a",
   "metadata": {},
   "outputs": [
    {
     "data": {
      "text/html": [
       "<div>\n",
       "<style scoped>\n",
       "    .dataframe tbody tr th:only-of-type {\n",
       "        vertical-align: middle;\n",
       "    }\n",
       "\n",
       "    .dataframe tbody tr th {\n",
       "        vertical-align: top;\n",
       "    }\n",
       "\n",
       "    .dataframe thead th {\n",
       "        text-align: right;\n",
       "    }\n",
       "</style>\n",
       "<table border=\"1\" class=\"dataframe\">\n",
       "  <thead>\n",
       "    <tr style=\"text-align: right;\">\n",
       "      <th></th>\n",
       "      <th>A</th>\n",
       "      <th>B</th>\n",
       "      <th>C</th>\n",
       "    </tr>\n",
       "  </thead>\n",
       "  <tbody>\n",
       "    <tr>\n",
       "      <th>1</th>\n",
       "      <td>1</td>\n",
       "      <td>5</td>\n",
       "      <td>9</td>\n",
       "    </tr>\n",
       "    <tr>\n",
       "      <th>3</th>\n",
       "      <td>2</td>\n",
       "      <td>6</td>\n",
       "      <td>10</td>\n",
       "    </tr>\n",
       "    <tr>\n",
       "      <th>5</th>\n",
       "      <td>3</td>\n",
       "      <td>7</td>\n",
       "      <td>11</td>\n",
       "    </tr>\n",
       "    <tr>\n",
       "      <th>7</th>\n",
       "      <td>4</td>\n",
       "      <td>8</td>\n",
       "      <td>12</td>\n",
       "    </tr>\n",
       "  </tbody>\n",
       "</table>\n",
       "</div>"
      ],
      "text/plain": [
       "   A  B   C\n",
       "1  1  5   9\n",
       "3  2  6  10\n",
       "5  3  7  11\n",
       "7  4  8  12"
      ]
     },
     "execution_count": 12,
     "metadata": {},
     "output_type": "execute_result"
    }
   ],
   "source": [
    "new_df"
   ]
  },
  {
   "cell_type": "markdown",
   "id": "d5953123-c60b-482b-8f8f-d3ce565c0d6f",
   "metadata": {},
   "source": [
    "#Q3"
   ]
  },
  {
   "cell_type": "code",
   "execution_count": 13,
   "id": "165a417a-0c41-4a5c-8052-fc2941a55218",
   "metadata": {},
   "outputs": [
    {
     "name": "stdout",
     "output_type": "stream",
     "text": [
      "Sum of the first three values in the 'Values' column: 60\n"
     ]
    }
   ],
   "source": [
    "import pandas as pd\n",
    "def calculate_sum_of_first_three(df):\n",
    "    # Check if 'Values' column exists in the DataFrame\n",
    "    if 'Values' not in df.columns:\n",
    "        print(\"Error: 'values' column not found in the DataFrame.\")\n",
    "        return\n",
    "    \n",
    "    # Extract the first three values from the 'Values' column and calculate their sum\n",
    "    first_three_sum = df['Values'].iloc[:3].sum()\n",
    "    \n",
    "     # Print the sum to the console\n",
    "    print(\"Sum of the first three values in the 'Values' column:\", first_three_sum)\n",
    "    \n",
    "# Example DataFrame\n",
    "df = pd.DataFrame({'Values': [10, 20, 30, 40, 50]})\n",
    "\n",
    "# Call the function\n",
    "calculate_sum_of_first_three(df)"
   ]
  },
  {
   "cell_type": "markdown",
   "id": "4ff9dc45-fde8-47e0-9c0b-f7c64261d6b1",
   "metadata": {},
   "source": [
    "#Q4"
   ]
  },
  {
   "cell_type": "code",
   "execution_count": 14,
   "id": "ac4a712c-1bd4-4282-9d63-aa4f231147cf",
   "metadata": {},
   "outputs": [
    {
     "name": "stdout",
     "output_type": "stream",
     "text": [
      "                        Text  Word_column\n",
      "0    This is a sampple text.            5\n",
      "1            Another Example            2\n",
      "2  Here we go with more text            6\n"
     ]
    }
   ],
   "source": [
    "def add_word_count_column(df , text_column ='Text' , new_column = 'Word_column'):\n",
    "    df[new_column] = df[text_column].apply(lambda x: len(str(x).split()))\n",
    "    return df\n",
    "\n",
    "data ={'Text': ['This is a sampple text.' ,'Another Example' , 'Here we go with more text']}\n",
    "df= pd.DataFrame(data)\n",
    "df=add_word_count_column(df)\n",
    "print(df)"
   ]
  },
  {
   "cell_type": "markdown",
   "id": "62305d13-979a-4381-9f81-63fa24f41744",
   "metadata": {},
   "source": [
    "#Q5"
   ]
  },
  {
   "cell_type": "markdown",
   "id": "5b99f9ce-fb55-4db8-bc3b-46307c370302",
   "metadata": {},
   "source": [
    "DataFrame.size and DataFrame.shape are both attributes of a Pandas DataFrame, but they serve different purposes:\n",
    "\n",
    "DataFrame.size: This attribute returns the total number of elements in the DataFrame, which is calculated by multiplying the number of rows by the number of columns. It gives you the total count of values in the DataFrame."
   ]
  },
  {
   "cell_type": "code",
   "execution_count": 15,
   "id": "7a0ab4d2-3768-4b1d-a69d-6d5475c146c4",
   "metadata": {},
   "outputs": [
    {
     "name": "stdout",
     "output_type": "stream",
     "text": [
      "6\n"
     ]
    }
   ],
   "source": [
    "df = pd.DataFrame({'A' : [1,2,'c'] , 'B' : [4,5,6]})\n",
    "print(df.size)"
   ]
  },
  {
   "cell_type": "markdown",
   "id": "b6b5c46a-acc7-4378-8a94-4f436bffd066",
   "metadata": {},
   "source": [
    "DataFrame.shape: This attribute returns a tuple representing the dimensions of the DataFrame, i.e., the number of rows and columns. It's a tuple of the form (number_of_rows, number_of_columns)."
   ]
  },
  {
   "cell_type": "code",
   "execution_count": 16,
   "id": "7b227597-3ba7-4659-a261-6cd8a6ef66a3",
   "metadata": {},
   "outputs": [
    {
     "name": "stdout",
     "output_type": "stream",
     "text": [
      "(3, 2)\n"
     ]
    }
   ],
   "source": [
    "print(df.shape)"
   ]
  },
  {
   "cell_type": "code",
   "execution_count": 17,
   "id": "fd843e8b-5ae0-4492-8c11-3b7a131c7b9e",
   "metadata": {},
   "outputs": [],
   "source": [
    "#Q6"
   ]
  },
  {
   "cell_type": "markdown",
   "id": "ffcf2211-3f57-4ffc-af2f-9e223eb0a68a",
   "metadata": {},
   "source": [
    "In pandas, you use the read_excel() function to read data from an Excel file. This function allows you to read Excel files into a DataFrame."
   ]
  },
  {
   "cell_type": "code",
   "execution_count": 18,
   "id": "6fe69f09-3a4e-493b-88aa-1f6b5231f690",
   "metadata": {},
   "outputs": [
    {
     "data": {
      "text/plain": [
       "\"df = pd.read_excel('filename.xlsx')\""
      ]
     },
     "execution_count": 18,
     "metadata": {},
     "output_type": "execute_result"
    }
   ],
   "source": [
    "\"\"\"df = pd.read_excel('filename.xlsx')\"\"\""
   ]
  },
  {
   "cell_type": "markdown",
   "id": "499c7d2b-9486-4ea7-bba2-fb858948f7af",
   "metadata": {},
   "source": [
    "#Q7"
   ]
  },
  {
   "cell_type": "code",
   "execution_count": 19,
   "id": "c79c9f8b-6438-48eb-afcb-43d8febc2d44",
   "metadata": {},
   "outputs": [],
   "source": [
    "def username_of_email(df , Email_column =\"username@domain.in\" , username ='username'):\n",
    "    df[username] = df[Email_column].apply(lambda x: (x.split('@')[0]))\n",
    "    return df"
   ]
  },
  {
   "cell_type": "markdown",
   "id": "12342956-c502-4136-baf2-5700dd5117b9",
   "metadata": {},
   "source": [
    "#Q8"
   ]
  },
  {
   "cell_type": "code",
   "execution_count": 20,
   "id": "3ae9f3f2-442d-498b-bfe5-cbc2ef3905a7",
   "metadata": {},
   "outputs": [
    {
     "name": "stdout",
     "output_type": "stream",
     "text": [
      "   A  B  C\n",
      "1  8  2  7\n",
      "2  6  9  4\n",
      "4  9  1  2\n"
     ]
    }
   ],
   "source": [
    "def select_rows(df):\n",
    "    selected_rows = df[(df['A'] > 5) & (df['B'] < 10)]\n",
    "    return selected_rows\n",
    "data ={'A':[3,8,6,2,9] , 'B':[5,2,9,3,1] , 'C':[1,7,4,5,2]}\n",
    "df = pd.DataFrame(data)\n",
    "selected_df = select_rows(df)\n",
    "print(selected_df)"
   ]
  },
  {
   "cell_type": "markdown",
   "id": "7cb80bda-1707-400a-94dd-dadc8dbef68c",
   "metadata": {},
   "source": [
    "#Q9"
   ]
  },
  {
   "cell_type": "code",
   "execution_count": 21,
   "id": "86d3f982-6413-4a9b-91ce-49e41721d2fa",
   "metadata": {},
   "outputs": [],
   "source": [
    "import pandas as pd\n",
    "\n",
    "def calculate_stats(df):\n",
    "    \"\"\"\n",
    "    Calculate mean, median, and standard deviation of the 'Values' column in the DataFrame.\n",
    "\n",
    "    Parameters:\n",
    "    df (DataFrame): Pandas DataFrame containing the 'Values' column.\n",
    "\n",
    "    Returns:\n",
    "    dict: A dictionary containing mean, median, and standard deviation.\n",
    "    \"\"\"\n",
    "    stats = {}\n",
    "    \n",
    "    # Calculate mean\n",
    "    stats['mean'] = df['Values'].mean()\n",
    "    \n",
    "    # Calculate median\n",
    "    stats['median'] = df['Values'].median()\n",
    "    \n",
    "    # Calculate standard deviation\n",
    "    stats['std_dev'] = df['Values'].std()\n",
    "    \n",
    "    return stats\n",
    "\n",
    "# Example usage:\n",
    "# Assuming df is your DataFrame with a column 'Values'\n",
    "# stats = calculate_stats(df)\n",
    "# print(stats)\n"
   ]
  },
  {
   "cell_type": "markdown",
   "id": "31026c50-b422-48a4-b16e-2a5b5469df75",
   "metadata": {},
   "source": [
    "#Q10"
   ]
  },
  {
   "cell_type": "code",
   "execution_count": 22,
   "id": "34f792ca-fce1-4703-8333-2c20355a1928",
   "metadata": {},
   "outputs": [],
   "source": [
    "def calculate_moving_average(df):\n",
    "    df = df.sort_values(by='Date')\n",
    "    df['Moving_Average']= df['Sales'].rolling(windows=7,min_periods=1).mean()\n",
    "    return df"
   ]
  },
  {
   "cell_type": "markdown",
   "id": "006e948c-ddf2-4a55-9d69-c32f17be2359",
   "metadata": {},
   "source": [
    "#Q11"
   ]
  },
  {
   "cell_type": "code",
   "execution_count": 34,
   "id": "8324193a-bbff-4042-9a31-513df1512093",
   "metadata": {},
   "outputs": [
    {
     "name": "stdout",
     "output_type": "stream",
     "text": [
      "        Date    Weekday\n",
      "0 2023-01-01     Sunday\n",
      "1 2023-01-02     Monday\n",
      "2 2023-01-03    Tuesday\n",
      "3 2023-01-04  Wednesday\n",
      "4 2023-01-05   Thursday\n"
     ]
    }
   ],
   "source": [
    "def add_weekday_column(df):\n",
    "    df['Date']=pd.to_datetime(df['Date'])\n",
    "    df['Weekday']=df['Date'].dt.day_name()\n",
    "    return df\n",
    "data ={'Date':['2023-01-1','2023-01-2','2023-01-3','2023-01-4','2023-01-5']}\n",
    "df_new =pd.DataFrame(data)\n",
    "df_new =add_weekday_column(df_new)\n",
    "print(df_new)"
   ]
  },
  {
   "cell_type": "markdown",
   "id": "9122a063-bc3a-4412-8bf9-e26037f38ad7",
   "metadata": {},
   "source": [
    "#Q12"
   ]
  },
  {
   "cell_type": "code",
   "execution_count": 35,
   "id": "0ec08751-1aeb-45d0-b8bc-3081c92183f9",
   "metadata": {},
   "outputs": [],
   "source": [
    "import pandas as pd\n",
    "\n",
    "def select_date_range(df):\n",
    "    # Convert 'Date' column to datetime if it's not already\n",
    "    df['Date'] = pd.to_datetime(df['Date'])\n",
    "    \n",
    "    # Select rows within the specified date range\n",
    "    mask = (df['Date'] >= '2023-01-01') & (df['Date'] <= '2023-01-31')\n",
    "    selected_rows = df[mask]\n",
    "    \n",
    "    return selected_rows"
   ]
  },
  {
   "cell_type": "markdown",
   "id": "dd2b9057-27f6-422c-bf98-d6378f2d5c56",
   "metadata": {},
   "source": [
    "#Q13"
   ]
  },
  {
   "cell_type": "code",
   "execution_count": null,
   "id": "21e19da3-ca57-490f-8b13-eb42093731fe",
   "metadata": {},
   "outputs": [],
   "source": []
  }
 ],
 "metadata": {
  "kernelspec": {
   "display_name": "Python 3 (ipykernel)",
   "language": "python",
   "name": "python3"
  },
  "language_info": {
   "codemirror_mode": {
    "name": "ipython",
    "version": 3
   },
   "file_extension": ".py",
   "mimetype": "text/x-python",
   "name": "python",
   "nbconvert_exporter": "python",
   "pygments_lexer": "ipython3",
   "version": "3.10.8"
  }
 },
 "nbformat": 4,
 "nbformat_minor": 5
}
